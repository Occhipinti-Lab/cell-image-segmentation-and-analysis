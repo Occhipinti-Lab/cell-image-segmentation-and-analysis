{
 "cells": [
  {
   "cell_type": "code",
   "execution_count": null,
   "id": "50922e8c",
   "metadata": {},
   "outputs": [],
   "source": [
    "import tifffile as tiff\n",
    "import numpy as np\n",
    "from pathlib import Path\n",
    "from cellpose import models\n",
    "from skimage.measure import regionprops_table\n",
    "import pandas as pd \n",
    "import matplotlib.pyplot as plt\n",
    "from skimage.color import label2rgb\n",
    "import openslide"
   ]
  },
  {
   "cell_type": "code",
   "execution_count": null,
   "id": "2278c273",
   "metadata": {},
   "outputs": [],
   "source": [
    "dir_path = Path().resolve()\n",
    "dir_path"
   ]
  },
  {
   "cell_type": "markdown",
   "id": "06418317",
   "metadata": {},
   "source": [
    "### Read Image Data"
   ]
  },
  {
   "cell_type": "code",
   "execution_count": null,
   "id": "e1f346fe",
   "metadata": {},
   "outputs": [],
   "source": [
    "# img = tiff.TiffFile(dir_path / \"image/pHGG_1991_3149_Scan1-001.qptiff\")\n",
    "# series = img.series[0]\n",
    "# print(\"Series shape:\", series.shape)\n",
    "# arr = series.asarray(out=\"memmap\")\n",
    "# print(\"Array shape:\", arr.shape)"
   ]
  },
  {
   "cell_type": "code",
   "execution_count": null,
   "id": "a21e1098",
   "metadata": {},
   "outputs": [],
   "source": [
    "slide = openslide.OpenSlide(dir_path / \"image/pHGG_1991_3149_Scan1-001.qptiff\")"
   ]
  },
  {
   "cell_type": "code",
   "execution_count": null,
   "id": "6708741c",
   "metadata": {},
   "outputs": [],
   "source": [
    "thumbnail = slide.get_thumbnail((500, 500))\n",
    "plt.imshow(thumbnail)\n",
    "plt.axis(\"off\")\n",
    "plt.show()\n",
    "print(\"Dimensions:\", slide.dimensions)\n",
    "print(\"Levels:\", slide.level_count)"
   ]
  },
  {
   "cell_type": "code",
   "execution_count": null,
   "id": "f6de29a7",
   "metadata": {},
   "outputs": [],
   "source": [
    "# Display level dimensions in a table (Multiresolution levels)\n",
    "df = pd.DataFrame(slide.level_dimensions, \n",
    "                  columns=[\"Width (px)\", \"Height (px)\"])\n",
    "df.index.name = \"Level\"\n",
    "grouped = df.groupby([\"Width (px)\", \"Height (px)\"]).size().reset_index(name=\"Count\")\n",
    "grouped"
   ]
  },
  {
   "cell_type": "code",
   "execution_count": null,
   "id": "867aafd4",
   "metadata": {},
   "outputs": [],
   "source": [
    "w, h = slide.level_dimensions[1]\n",
    "print(f\"Level size: {w} x {h}\")"
   ]
  },
  {
   "cell_type": "code",
   "execution_count": null,
   "id": "5660141d",
   "metadata": {},
   "outputs": [],
   "source": [
    "region = slide.read_region((0, 0), level=1, size=(w, h))"
   ]
  },
  {
   "cell_type": "code",
   "execution_count": null,
   "id": "330117e3",
   "metadata": {},
   "outputs": [],
   "source": [
    "gray = region.convert(\"L\")"
   ]
  },
  {
   "cell_type": "code",
   "execution_count": null,
   "id": "1d76bf69",
   "metadata": {},
   "outputs": [],
   "source": [
    "arr = np.array(gray)\n",
    "print(\"Array shape:\", arr.shape)"
   ]
  },
  {
   "cell_type": "code",
   "execution_count": null,
   "id": "fc3d20b2",
   "metadata": {},
   "outputs": [],
   "source": [
    "# def get_slide_series(slide):\n",
    "#     series = []\n",
    "#     for level in range(slide.level_count):\n",
    "#         w, h = slide.level_dimensions[level]\n",
    "#         region = slide.read_region((0, 0), level, (w, h))\n",
    "#         arr = np.array(region)\n",
    "#         series.append(arr)\n",
    "#     return series"
   ]
  },
  {
   "cell_type": "code",
   "execution_count": null,
   "metadata": {},
   "outputs": [],
   "source": [
    "H = arr.shape[0]  \n",
    "y_mid = H // 2   \n",
    "\n",
    "# patient 3149\n",
    "patient_3149 = arr[0:y_mid, :]\n",
    "\n",
    "# patient 1991\n",
    "patient_1991 = arr[y_mid:H, :]"
   ]
  },
  {
   "cell_type": "markdown",
   "id": "beb73fae",
   "metadata": {},
   "source": [
    "### Apply Segmentation Model"
   ]
  },
  {
   "cell_type": "code",
   "execution_count": null,
   "id": "0405812b",
   "metadata": {},
   "outputs": [],
   "source": [
    "# cyto for membrance / nuclei for nucleus\n",
    "model = models.CellposeModel(gpu=False, model_type=\"nuclei\")"
   ]
  },
  {
   "cell_type": "code",
   "execution_count": null,
   "id": "ba87ad17",
   "metadata": {},
   "outputs": [],
   "source": [
    "masks, flows, styles = model.eval(patient_3149, \n",
    "                                  diameter=20, \n",
    "                                  resample=False,          \n",
    "                                  augment=False,        \n",
    "                                  batch_size=1,        \n",
    "                                  flow_threshold=0.4,    \n",
    "                                  cellprob_threshold=0.0)"
   ]
  },
  {
   "cell_type": "code",
   "execution_count": null,
   "id": "d88a1708",
   "metadata": {},
   "outputs": [],
   "source": [
    "overlay = label2rgb(masks, image=patient_3149, bg_label=0, alpha=0.3)\n",
    "fig, axes = plt.subplots(1, 3, figsize=(15, 5))\n",
    "axes[0].imshow(patient_3149, cmap=\"gray\"); axes[0].set_title(\"DAPI Tile\"); axes[0].axis(\"off\")\n",
    "axes[1].imshow(masks, cmap=\"nipy_spectral\"); axes[1].set_title(\"Segmentation Mask\"); axes[1].axis(\"off\")\n",
    "axes[2].imshow(overlay); axes[2].set_title(\"Overlay (DAPI + Mask)\"); axes[2].axis(\"off\")\n",
    "plt.show()"
   ]
  },
  {
   "cell_type": "code",
   "execution_count": null,
   "id": "7709de3c",
   "metadata": {},
   "outputs": [],
   "source": [
    "# results = []\n",
    "# visualized = False  \n",
    "# tile_counter = 0    \n",
    "# cell_counter = 0    \n",
    "\n",
    "# for y in range(0, H, tile_size - overlap):\n",
    "#     for x in range(0, W, tile_size - overlap):\n",
    "\n",
    "#         y_end = min(y + tile_size, H)\n",
    "#         x_end = min(x + tile_size, W)\n",
    "\n",
    "#         tile = patient_3149[dapi_index, y:y_end, x:x_end]\n",
    "\n",
    "#         masks, flows, styles = model.eval(tile, diameter=None)\n",
    "\n",
    "#         tile_counter += 1 \n",
    "\n",
    "#         if masks is None or (hasattr(masks, \"max\") and masks.max() == 0):\n",
    "#             print(f\"[Tile {tile_counter}] No cells detected at (x={x}, y={y})\")\n",
    "#             continue\n",
    "\n",
    "#         if not visualized:\n",
    "#             overlay = label2rgb(masks, image=tile, bg_label=0, alpha=0.3)\n",
    "#             fig, axes = plt.subplots(1, 3, figsize=(15, 5))\n",
    "#             axes[0].imshow(tile, cmap=\"gray\"); axes[0].set_title(\"DAPI Tile\"); axes[0].axis(\"off\")\n",
    "#             axes[1].imshow(masks, cmap=\"nipy_spectral\"); axes[1].set_title(\"Segmentation Mask\"); axes[1].axis(\"off\")\n",
    "#             axes[2].imshow(overlay); axes[2].set_title(\"Overlay (DAPI + Mask)\"); axes[2].axis(\"off\")\n",
    "#             plt.show()\n",
    "#             visualized = True\n",
    "\n",
    "#         props = regionprops_table(\n",
    "#             masks,\n",
    "#             properties=(\"label\", \"centroid\", \"area\", \"perimeter\")\n",
    "#         )\n",
    "#         df = pd.DataFrame(props)\n",
    "\n",
    "#         df[\"x_global\"] = df[\"centroid-1\"] + x\n",
    "#         df[\"y_global\"] = df[\"centroid-0\"] + y\n",
    "#         df[\"tile_x0\"] = x\n",
    "#         df[\"tile_y0\"] = y\n",
    "#         df[\"tile_id\"] = tile_counter\n",
    "\n",
    "#         results.append(df)\n",
    "\n",
    "#         cell_counter += len(df)\n",
    "#         print(f\"[Tile {tile_counter}] Found {len(df)} cells (Total so far: {cell_counter})\")\n",
    "\n",
    "# cells_df = pd.concat(results, ignore_index=True) if results else pd.DataFrame()\n",
    "# print(f\"\\nProcessed {tile_counter} tiles. Total cells detected: {cell_counter}\")\n",
    "# print(cells_df.head())\n"
   ]
  },
  {
   "cell_type": "code",
   "execution_count": null,
   "id": "3b764979",
   "metadata": {},
   "outputs": [],
   "source": []
  },
  {
   "cell_type": "code",
   "execution_count": null,
   "id": "a1ac90cb",
   "metadata": {},
   "outputs": [],
   "source": []
  },
  {
   "cell_type": "code",
   "execution_count": null,
   "id": "bfa75122",
   "metadata": {},
   "outputs": [],
   "source": []
  },
  {
   "cell_type": "code",
   "execution_count": null,
   "id": "0e1c6ba5",
   "metadata": {},
   "outputs": [],
   "source": []
  },
  {
   "cell_type": "code",
   "execution_count": null,
   "metadata": {},
   "outputs": [],
   "source": []
  },
  {
   "cell_type": "code",
   "execution_count": null,
   "id": "38881e16",
   "metadata": {},
   "outputs": [],
   "source": []
  },
  {
   "cell_type": "code",
   "execution_count": null,
   "id": "fbe3bde1",
   "metadata": {},
   "outputs": [],
   "source": []
  },
  {
   "cell_type": "code",
   "execution_count": null,
   "id": "846885d0",
   "metadata": {},
   "outputs": [],
   "source": []
  },
  {
   "cell_type": "code",
   "execution_count": null,
   "id": "da2e69cb",
   "metadata": {},
   "outputs": [],
   "source": []
  },
  {
   "cell_type": "code",
   "execution_count": null,
   "id": "a18223cc",
   "metadata": {},
   "outputs": [],
   "source": []
  }
 ],
 "metadata": {
  "kernelspec": {
   "display_name": "venv (3.12.3)",
   "language": "python",
   "name": "python3"
  },
  "language_info": {
   "codemirror_mode": {
    "name": "ipython",
    "version": 3
   },
   "file_extension": ".py",
   "mimetype": "text/x-python",
   "name": "python",
   "nbconvert_exporter": "python",
   "pygments_lexer": "ipython3",
   "version": "3.12.3"
  }
 },
 "nbformat": 4,
 "nbformat_minor": 5
}
