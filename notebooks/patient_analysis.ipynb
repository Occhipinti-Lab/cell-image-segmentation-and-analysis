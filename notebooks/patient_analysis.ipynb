{
 "cells": [
  {
   "cell_type": "code",
   "execution_count": 2,
   "id": "5376aba7",
   "metadata": {},
   "outputs": [],
   "source": [
    "import pandas as pd\n",
    "import openslide\n",
    "import tifffile as tiff\n",
    "import matplotlib.pyplot as plt\n",
    "import pyarrow.parquet as pq\n",
    "import torch\n",
    "\n",
    "from pathlib import Path\n",
    "import json"
   ]
  },
  {
   "cell_type": "code",
   "execution_count": 3,
   "id": "3ff836b6",
   "metadata": {},
   "outputs": [
    {
     "data": {
      "text/plain": [
       "PosixPath('/home/sadegh/projects/nencki_institute')"
      ]
     },
     "execution_count": 3,
     "metadata": {},
     "output_type": "execute_result"
    }
   ],
   "source": [
    "base_dir = Path().resolve()\n",
    "base_dir"
   ]
  },
  {
   "cell_type": "markdown",
   "id": "411ef577",
   "metadata": {},
   "source": [
    "## Patient 1991"
   ]
  },
  {
   "cell_type": "code",
   "execution_count": null,
   "id": "aa26c09d",
   "metadata": {},
   "outputs": [],
   "source": [
    "patient_1991 = base_dir / \"data/measurements_1991.xlsx\"\n"
   ]
  },
  {
   "cell_type": "code",
   "execution_count": null,
   "id": "ebdae360",
   "metadata": {},
   "outputs": [],
   "source": [
    "raw = pd.read_excel(patient_1991, header=None)\n",
    "header = raw.iloc[0,0].split(\";\")\n",
    "data = raw.iloc[1:,0].str.split(\";\", expand=True)\n",
    "data.columns = header\n",
    "df_1991 = data.reset_index(drop=True)\n",
    "df_1991"
   ]
  },
  {
   "cell_type": "code",
   "execution_count": null,
   "id": "69f748fc",
   "metadata": {},
   "outputs": [],
   "source": [
    "# df_1991.to_csv(\"patient_1991.csv\", index=False)"
   ]
  },
  {
   "cell_type": "code",
   "execution_count": null,
   "id": "4f0f2da1",
   "metadata": {},
   "outputs": [],
   "source": [
    "summary_path = base_dir / \"qupath/1991_Diffuse midline glioma H3K27M/data/1/summary.json\"\n",
    "with open(summary_path, \"r\") as f:\n",
    "    summary = json.load(f)\n",
    "summary"
   ]
  },
  {
   "cell_type": "code",
   "execution_count": null,
   "metadata": {},
   "outputs": [],
   "source": [
    "server_path = base_dir / \"qupath/1991_Diffuse midline glioma H3K27M/data/1/server.json\"\n",
    "with open(server_path, \"r\") as f:\n",
    "    server = json.load(f)\n",
    "server"
   ]
  },
  {
   "cell_type": "code",
   "execution_count": null,
   "id": "95203ee6",
   "metadata": {},
   "outputs": [],
   "source": [
    "classes_path = base_dir / \"qupath/1991_Diffuse midline glioma H3K27M/classifiers/classes.json\"\n",
    "with open(classes_path, \"r\") as f:\n",
    "    classes = json.load(f)\n",
    "classes"
   ]
  },
  {
   "cell_type": "code",
   "execution_count": null,
   "id": "cae5d3a1",
   "metadata": {},
   "outputs": [],
   "source": []
  },
  {
   "cell_type": "code",
   "execution_count": null,
   "id": "33cc2ac4",
   "metadata": {},
   "outputs": [],
   "source": []
  },
  {
   "cell_type": "code",
   "execution_count": null,
   "id": "0726db83",
   "metadata": {},
   "outputs": [],
   "source": []
  },
  {
   "cell_type": "code",
   "execution_count": null,
   "id": "79acf02b",
   "metadata": {},
   "outputs": [],
   "source": []
  },
  {
   "cell_type": "code",
   "execution_count": null,
   "metadata": {},
   "outputs": [],
   "source": []
  },
  {
   "cell_type": "code",
   "execution_count": null,
   "metadata": {},
   "outputs": [],
   "source": []
  },
  {
   "cell_type": "code",
   "execution_count": null,
   "metadata": {},
   "outputs": [],
   "source": []
  },
  {
   "cell_type": "code",
   "execution_count": null,
   "id": "193beeda",
   "metadata": {},
   "outputs": [],
   "source": [
    "patinet_3149 = base_dir / \"AKOYA/measurements_3149.csv\""
   ]
  },
  {
   "cell_type": "code",
   "execution_count": null,
   "id": "027b5564",
   "metadata": {},
   "outputs": [],
   "source": [
    "raw = pd.read_csv(patinet_3149, header=None)   \n",
    "header = raw.iloc[0, 0].split(\";\")\n",
    "data = raw.iloc[1:, 0].str.split(\";\", expand=True)\n",
    "data.columns = header\n",
    "df_3149 = data.reset_index(drop=True)\n",
    "df_3149\n"
   ]
  },
  {
   "cell_type": "code",
   "execution_count": null,
   "id": "4aae515b",
   "metadata": {},
   "outputs": [],
   "source": []
  },
  {
   "cell_type": "code",
   "execution_count": null,
   "metadata": {},
   "outputs": [],
   "source": []
  },
  {
   "cell_type": "code",
   "execution_count": null,
   "id": "aa956f42",
   "metadata": {},
   "outputs": [],
   "source": []
  },
  {
   "cell_type": "code",
   "execution_count": null,
   "id": "b0e92675",
   "metadata": {},
   "outputs": [],
   "source": []
  },
  {
   "cell_type": "code",
   "execution_count": null,
   "id": "abf2c854",
   "metadata": {},
   "outputs": [],
   "source": [
    "df.columns = [c.replace(\"Cell: \", \"\").replace(\"Nucleus: \", \"\").replace(\": Mean\", \"\").strip() for c in df.columns]\n",
    "\n",
    "df = df[[c for c in df.columns if not c.endswith(\"Median\")]]\n",
    "\n",
    "for col in df.columns[7:]: \n",
    "    df[col] = pd.to_numeric(df[col], errors=\"coerce\")\n",
    "\n",
    "def percentage_in_population(df, base_markers, positive_marker, threshold=0.1):\n",
    "    \"\"\"\n",
    "    base_markers: dict, e.g. {\"TMEM119\":0.1, \"CD68\":0.1, \"CD45\":0.1}\n",
    "    positive_marker: str, e.g. \"SPP1\"\n",
    "    threshold: float, cutoff for positivity\n",
    "    \"\"\"\n",
    "    query = \" and \".join([f\"`{m}` > {thr}\" for m,thr in base_markers.items()])\n",
    "    base = df.query(query)\n",
    "    if len(base) == 0:\n",
    "        return 0\n",
    "    pos = base[base[positive_marker] > threshold]\n",
    "    return len(pos) / len(base) * 100\n",
    "\n",
    "results = {\n",
    "    \"SPP1 in TMEM119+ CD68+ CD45+\": percentage_in_population(df, {\"TMEM119\":0.1, \"CD68\":0.1, \"CD45\":0.1}, \"SPP1\"),\n",
    "    \"SPP1 in LGALS3+ CD68+ CD45+\": percentage_in_population(df, {\"LGALS3\":0.1, \"CD68\":0.1, \"CD45\":0.1}, \"SPP1\"),\n",
    "    \"SPP1 in H3K27M+\": percentage_in_population(df, {\"H3K27M\":0.1}, \"SPP1\"),\n",
    "    \"SPP1 in TMEM119+ CD68+ CD45+ GLUT1+ CD31-\": percentage_in_population(df, {\"TMEM119\":0.1, \"CD68\":0.1, \"CD45\":0.1, \"GLUT1\":0.1}, \"SPP1\") \n",
    "                                               - percentage_in_population(df, {\"TMEM119\":0.1, \"CD68\":0.1, \"CD45\":0.1, \"CD31\":0.1}, \"SPP1\"),\n",
    "    \"SPP1 in LGALS3+ CD68+ CD45+ GLUT1+ CD31-\": percentage_in_population(df, {\"LGALS3\":0.1, \"CD68\":0.1, \"CD45\":0.1, \"GLUT1\":0.1}, \"SPP1\") \n",
    "                                               - percentage_in_population(df, {\"LGALS3\":0.1, \"CD68\":0.1, \"CD45\":0.1, \"CD31\":0.1}, \"SPP1\"),\n",
    "    \"SPP1 in H3K27M+ GLUT1+ CD31-\": percentage_in_population(df, {\"H3K27M\":0.1, \"GLUT1\":0.1}, \"SPP1\") \n",
    "                                    - percentage_in_population(df, {\"H3K27M\":0.1, \"CD31\":0.1}, \"SPP1\"),\n",
    "}\n",
    "\n",
    "pd.Series(results)\n"
   ]
  },
  {
   "cell_type": "code",
   "execution_count": null,
   "id": "7ce90494",
   "metadata": {},
   "outputs": [],
   "source": [
    "markers = [\"SPP1\", \"TMEM119\", \"CD68\", \"CD45\", \"LGALS3\", \"H3K27M\", \"GLUT1\", \"CD31\"]\n",
    "\n",
    "for m in markers:\n",
    "    df[m].astype(float).hist(bins=100)\n",
    "    plt.title(m)\n",
    "    plt.xlabel(\"Intensity\")\n",
    "    plt.ylabel(\"Count\")\n",
    "    plt.show()"
   ]
  },
  {
   "cell_type": "code",
   "execution_count": null,
   "id": "48fe3f49",
   "metadata": {},
   "outputs": [],
   "source": [
    "thresholds = {\n",
    "    \"SPP1\": 0.175,\n",
    "    \"TMEM119\": 6.25,\n",
    "    \"CD68\": 8,\n",
    "    \"CD45\": 10,\n",
    "    \"LGALS3\": 4.65,\n",
    "    \"H3K27M\": 12,\n",
    "    \"GLUT1\": 15,\n",
    "    \"CD31\": 2\n",
    "}"
   ]
  },
  {
   "cell_type": "code",
   "execution_count": null,
   "id": "30d99317",
   "metadata": {},
   "outputs": [],
   "source": [
    "def percentage_in_population(df, base_markers, positive_marker, thresholds):\n",
    "    query = \" and \".join([f\"`{m}` > {thresholds[m]}\" for m in base_markers])\n",
    "    base = df.query(query)\n",
    "    if len(base) == 0:\n",
    "        return 0\n",
    "    pos = base[base[positive_marker] > thresholds[positive_marker]]\n",
    "    return len(pos) / len(base) * 100\n"
   ]
  },
  {
   "cell_type": "code",
   "execution_count": null,
   "id": "71bb02b8",
   "metadata": {},
   "outputs": [],
   "source": [
    "df_cd31_neg = df[df[\"CD31\"] <= thresholds[\"CD31\"]] "
   ]
  },
  {
   "cell_type": "code",
   "execution_count": null,
   "id": "758541bb",
   "metadata": {},
   "outputs": [],
   "source": [
    "result_cd31_neg = {\n",
    "    \"SPP1 in TMEM119+ CD68+ CD45+ GLUT1+ CD31-\":\n",
    "        percentage_in_population(df_cd31_neg, {\"TMEM119\":0, \"CD68\":0, \"CD45\":0, \"GLUT1\":0}, \"SPP1\", thresholds),\n",
    "    \"SPP1 in LGALS3+ CD68+ CD45+ GLUT1+ CD31-\":\n",
    "        percentage_in_population(df_cd31_neg, {\"LGALS3\":0, \"CD68\":0, \"CD45\":0, \"GLUT1\":0}, \"SPP1\", thresholds),\n",
    "    \"SPP1 in H3K27M+ GLUT1+ CD31-\":\n",
    "        percentage_in_population(df_cd31_neg, {\"H3K27M\":0, \"GLUT1\":0}, \"SPP1\", thresholds),\n",
    "}\n",
    "\n",
    "pd.Series(result_cd31_neg)"
   ]
  },
  {
   "cell_type": "code",
   "execution_count": null,
   "id": "22b02a4a",
   "metadata": {},
   "outputs": [],
   "source": []
  }
 ],
 "metadata": {
  "kernelspec": {
   "display_name": "venv (3.12.3)",
   "language": "python",
   "name": "python3"
  },
  "language_info": {
   "codemirror_mode": {
    "name": "ipython",
    "version": 3
   },
   "file_extension": ".py",
   "mimetype": "text/x-python",
   "name": "python",
   "nbconvert_exporter": "python",
   "pygments_lexer": "ipython3",
   "version": "3.12.3"
  }
 },
 "nbformat": 4,
 "nbformat_minor": 5
}
