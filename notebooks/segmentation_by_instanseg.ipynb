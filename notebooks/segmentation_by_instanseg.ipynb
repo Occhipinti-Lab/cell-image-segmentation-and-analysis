{
 "cells": [
  {
   "cell_type": "code",
   "execution_count": null,
   "id": "4f14765b",
   "metadata": {},
   "outputs": [],
   "source": [
    "import numpy as np\n",
    "import torch\n",
    "import tifffile as tiff\n",
    "from pathlib import Path\n",
    "from skimage.filters import gaussian\n",
    "from skimage.morphology import remove_small_objects, dilation, disk\n",
    "from skimage.measure import label, regionprops_table\n",
    "from skimage.filters import threshold_otsu\n",
    "from skimage.segmentation import watershed, relabel_sequential\n",
    "from functools import reduce\n",
    "from scipy import ndimage as ndi\n",
    "import pandas as pd\n",
    "from instanseg import InstanSeg\n",
    "import matplotlib.pyplot as plt"
   ]
  },
  {
   "cell_type": "code",
   "execution_count": null,
   "id": "0a97ad66",
   "metadata": {},
   "outputs": [],
   "source": [
    "from pathlib import Path\n",
    "\n",
    "dir_path = Path().resolve()\n",
    "dir_path"
   ]
  },
  {
   "cell_type": "code",
   "execution_count": null,
   "id": "f4f735f6",
   "metadata": {},
   "outputs": [],
   "source": [
    "device = \"cuda\" if torch.cuda.is_available() else \"cpu\"\n",
    "print(f\"Using device: {device}\")\n",
    "instanseg_fluorescence = InstanSeg(\"fluorescence_nuclei_and_cells\", verbosity=1, device=device)"
   ]
  },
  {
   "cell_type": "code",
   "execution_count": null,
   "id": "11af82e1",
   "metadata": {},
   "outputs": [],
   "source": [
    "WSI_PATH = dir_path.parent / 'image/pHGG_1991_3149_Scan1-001.qptiff'\n",
    "USE_GPU = torch.cuda.is_available()\n",
    "TILE = 512\n",
    "OVERLAP = 128\n",
    "BATCH_SIZE = 40"
   ]
  },
  {
   "cell_type": "code",
   "execution_count": null,
   "id": "a8d11505",
   "metadata": {},
   "outputs": [],
   "source": [
    "tf = tiff.TiffFile(WSI_PATH)\n",
    "series = tf.series[0]\n",
    "arr = series.asarray(out=\"memmap\")\n",
    "if arr.ndim == 3 and arr.shape[0] < arr.shape[-1]:\n",
    "    C, H, W = arr.shape\n",
    "else:\n",
    "    arr = np.moveaxis(arr, -1, 0)\n",
    "    C, H, W = arr.shape"
   ]
  },
  {
   "cell_type": "code",
   "execution_count": null,
   "id": "00be8aef",
   "metadata": {},
   "outputs": [],
   "source": [
    "arr.shape"
   ]
  },
  {
   "cell_type": "markdown",
   "id": "8a54dba1",
   "metadata": {},
   "source": [
    "### Cell segmentation based on the Just DAPI (channel 0)"
   ]
  },
  {
   "cell_type": "code",
   "execution_count": null,
   "id": "44135b8b",
   "metadata": {},
   "outputs": [],
   "source": [
    "arr[0]"
   ]
  },
  {
   "cell_type": "code",
   "execution_count": null,
   "id": "14450d27",
   "metadata": {},
   "outputs": [],
   "source": [
    "labeled_output, image_tensor = instanseg_fluorescence.eval_medium_image(\n",
    "    arr[0],\n",
    "    pixel_size=None,\n",
    "    target=\"cells\",\n",
    "    tile_size=TILE, \n",
    "    batch_size=BATCH_SIZE\n",
    ")"
   ]
  },
  {
   "cell_type": "code",
   "execution_count": null,
   "id": "85bb4288",
   "metadata": {},
   "outputs": [],
   "source": [
    "print(type(labeled_output), getattr(labeled_output, 'shape', None))\n",
    "print(type(image_tensor),  getattr(image_tensor,  'shape', None))\n",
    "print(getattr(labeled_output, 'dtype', None), getattr(image_tensor, 'dtype', None))"
   ]
  },
  {
   "cell_type": "code",
   "execution_count": null,
   "id": "6f1d8980",
   "metadata": {},
   "outputs": [],
   "source": [
    "img = image_tensor.squeeze().detach().cpu().numpy()"
   ]
  },
  {
   "cell_type": "code",
   "execution_count": null,
   "id": "b7b3a22b",
   "metadata": {},
   "outputs": [],
   "source": [
    "plt.imshow(img[::50, ::50])   # 50x downsample\n",
    "plt.show()"
   ]
  },
  {
   "cell_type": "code",
   "execution_count": null,
   "id": "58b55c49",
   "metadata": {},
   "outputs": [],
   "source": [
    "labeled_output = labeled_output.squeeze().detach().cpu().numpy().astype(\"int32\")"
   ]
  },
  {
   "cell_type": "code",
   "execution_count": null,
   "id": "35c56ad8",
   "metadata": {},
   "outputs": [],
   "source": [
    "props = regionprops_table(\n",
    "    labeled_output,\n",
    "    intensity_image=arr[0],\n",
    "    properties=(\"label\", \"centroid\", \"area\", \"perimeter\",\"mean_intensity\")\n",
    ")\n",
    "\n",
    "# label = cell id , centroid = center of cell, area and primeter = shape of cell, mean_intensity\n",
    "# Run for each channel\n",
    "cells_df = pd.DataFrame(props)\n",
    "print(len(cells_df))"
   ]
  },
  {
   "cell_type": "code",
   "execution_count": null,
   "id": "ed2eac2e",
   "metadata": {},
   "outputs": [],
   "source": [
    "cells_df.head(20)"
   ]
  },
  {
   "cell_type": "markdown",
   "id": "8406c15e",
   "metadata": {},
   "source": [
    "### Summarization for All Channel"
   ]
  },
  {
   "cell_type": "code",
   "execution_count": null,
   "id": "5c3739b0",
   "metadata": {},
   "outputs": [],
   "source": [
    "def extract_cell_features(labeled_output, arr, channel_names=None):\n",
    "    \"\"\"\n",
    "    Parameters\n",
    "    ----------\n",
    "    labeled_output : ndarray (H, W)\n",
    "        Segmentation mask, each cell has unique integer ID.\n",
    "    arr : ndarray (C, H, W)\n",
    "        Multi-channel image (channels, height, width).\n",
    "    channel_names : list of str\n",
    "        Names of channels in arr, e.g. [\"DAPI\",\"CD68\",\"TMEM119\",\"SPP1\"].\n",
    "        If None, channels will be named ch0, ch1, ...\n",
    "    \n",
    "    Returns\n",
    "    -------\n",
    "    DataFrame with per-cell features (like QuPath export).\n",
    "    \"\"\"\n",
    "    if channel_names is None:\n",
    "        channel_names = [f\"ch{i}\" for i in range(arr.shape[0])]\n",
    "\n",
    "    results = []\n",
    "\n",
    "    # --- morphology (independent of intensity) ---\n",
    "    props_morph = regionprops_table(\n",
    "        labeled_output,\n",
    "        properties=(\"label\", \"centroid\", \"area\", \"perimeter\")\n",
    "    )\n",
    "    df = pd.DataFrame(props_morph)\n",
    "    df.rename(columns={\"centroid-0\": \"Centroid Y µm\",\n",
    "                       \"centroid-1\": \"Centroid X µm\",\n",
    "                       \"area\": \"Cell: Area (px)\",\n",
    "                       \"perimeter\": \"Cell: Perimeter (px)\"}, inplace=True)\n",
    "    results.append(df)\n",
    "\n",
    "    # --- intensity per channel ---\n",
    "    for i, ch in enumerate(channel_names):\n",
    "        props = regionprops_table(\n",
    "            labeled_output,\n",
    "            intensity_image=arr[i],\n",
    "            properties=(\"label\", \"mean_intensity\", \"median_intensity\")\n",
    "        )\n",
    "        df_ch = pd.DataFrame(props).rename(\n",
    "            columns={\n",
    "                \"mean_intensity\": f\"Cell: {ch}: Mean\",\n",
    "                \"median_intensity\": f\"Cell: {ch}: Median\"\n",
    "            }\n",
    "        )\n",
    "        results.append(df_ch)\n",
    "\n",
    "    # --- merge all on \"label\" ---\n",
    "    features_df = reduce(lambda left, right: pd.merge(left, right, on=\"label\"), results)\n",
    "    return features_df\n",
    "\n",
    "# -------------------------\n",
    "# Example usage:\n",
    "# labeled_output: (H,W)\n",
    "# arr: (C,H,W)\n",
    "# channel_names = [\"DAPI\", \"GFAP\", \"CD45\", \"TMEM119\", \"HLA-DR\", \"CD68\", \"SPP1\"]\n",
    "\n",
    "features_df = extract_cell_features(labeled_output, arr, channel_names)\n",
    "print(features_df.head())\n"
   ]
  },
  {
   "cell_type": "code",
   "execution_count": null,
   "id": "8ca82954",
   "metadata": {},
   "outputs": [],
   "source": []
  },
  {
   "cell_type": "code",
   "execution_count": null,
   "id": "0ad997cd",
   "metadata": {},
   "outputs": [],
   "source": []
  },
  {
   "cell_type": "code",
   "execution_count": null,
   "id": "fd95722b",
   "metadata": {},
   "outputs": [],
   "source": []
  },
  {
   "cell_type": "code",
   "execution_count": null,
   "id": "dedf9f41",
   "metadata": {},
   "outputs": [],
   "source": []
  },
  {
   "cell_type": "code",
   "execution_count": null,
   "id": "dca722e5",
   "metadata": {},
   "outputs": [],
   "source": []
  },
  {
   "cell_type": "code",
   "execution_count": null,
   "id": "eca4a02a",
   "metadata": {},
   "outputs": [],
   "source": []
  },
  {
   "cell_type": "markdown",
   "id": "82535b9d",
   "metadata": {},
   "source": [
    "## Analysis on their data"
   ]
  },
  {
   "cell_type": "code",
   "execution_count": null,
   "id": "1851f6da",
   "metadata": {},
   "outputs": [],
   "source": [
    "patient_1991 = dir_path / \"AKOYA/measurements_1991.xlsx\""
   ]
  },
  {
   "cell_type": "code",
   "execution_count": null,
   "id": "05259824",
   "metadata": {},
   "outputs": [],
   "source": [
    "raw = pd.read_excel(patient_1991, header=None)\n",
    "header = raw.iloc[0,0].split(\";\")\n",
    "data = raw.iloc[1:,0].str.split(\";\", expand=True)\n",
    "data.columns = header\n",
    "df_1991 = data.reset_index(drop=True)\n",
    "df_1991"
   ]
  },
  {
   "cell_type": "code",
   "execution_count": null,
   "id": "26cd9f9f",
   "metadata": {},
   "outputs": [],
   "source": [
    "df_1991.columns"
   ]
  },
  {
   "cell_type": "code",
   "execution_count": null,
   "id": "1f6421f2",
   "metadata": {},
   "outputs": [],
   "source": [
    "for col in df_1991.columns:\n",
    "    if \"Mean\" in col or \"Median\" in col:\n",
    "        df_1991[col] = pd.to_numeric(df_1991[col], errors=\"coerce\")\n",
    "\n",
    "markers = [\"SPP1\", \"TMEM119\", \"CD68\", \"CD45\", \"LGALS3\", \"H3K27M\", \"GLUT1\", \"CD31\"]\n",
    "\n",
    "TH = {}\n",
    "for m in markers:\n",
    "    col = f\"Cell: {m}: Mean\" if m != \"H3K27M\" else f\"Nucleus: {m}: Mean\"\n",
    "    vals = df_1991[col].dropna()\n",
    "    if len(vals) == 0:\n",
    "        continue\n",
    "    try:\n",
    "       TH[m] = threshold_otsu(vals)   \n",
    "    except:\n",
    "       TH[m] = vals.median()        \n",
    "print(\"Thresholds:\", TH)\n",
    "\n",
    "\n",
    "def pos(marker, nucleus=False):\n",
    "    col = f\"Nucleus: {marker}: Mean\" if nucleus else f\"Cell: {marker}: Mean\"\n",
    "    return df_1991[col] > TH[marker]\n",
    "\n",
    "microglia_like = pos(\"TMEM119\") & pos(\"CD68\") & pos(\"CD45\")\n",
    "macrophage_like = pos(\"LGALS3\") & pos(\"CD68\") & pos(\"CD45\")\n",
    "h3k27m = pos(\"H3K27M\", nucleus=True)\n",
    "hypoxic = pos(\"GLUT1\") & (~pos(\"CD31\"))\n",
    "\n",
    "# ---- 6. Compute % SPP1+ ----\n",
    "results = {}\n",
    "\n",
    "results[\"SPP1 in TMEM119+ CD68+ CD45+\"] = (df_1991.loc[microglia_like, \"Cell: SPP1: Mean\"] > TH[\"SPP1\"]).mean() * 100\n",
    "results[\"SPP1 in LGALS3+ CD68+ CD45+\"] = (df_1991.loc[macrophage_like, \"Cell: SPP1: Mean\"] > TH[\"SPP1\"]).mean() * 100\n",
    "results[\"SPP1 in H3K27M+\"] = (df_1991.loc[h3k27m, \"Cell: SPP1: Mean\"] > TH[\"SPP1\"]).mean() * 100\n",
    "\n",
    "results[\"SPP1 in TMEM119+ CD68+ CD45+ GLUT1+ CD31-\"] = (df_1991.loc[microglia_like & hypoxic, \"Cell: SPP1: Mean\"] > TH[\"SPP1\"]).mean() * 100\n",
    "results[\"SPP1 in LGALS3+ CD68+ CD45+ GLUT1+ CD31-\"] = (df_1991.loc[macrophage_like & hypoxic, \"Cell: SPP1: Mean\"] > TH[\"SPP1\"]).mean() * 100\n",
    "results[\"SPP1 in H3K27M+ GLUT1+ CD31-\"] = (df_1991.loc[h3k27m & hypoxic, \"Cell: SPP1: Mean\"] > TH[\"SPP1\"]).mean() * 100\n",
    "\n",
    "summary = pd.DataFrame.from_dict(results, orient=\"index\", columns=[\"% SPP1+\"])\n",
    "summary[\"% SPP1+\"] = summary[\"% SPP1+\"].fillna(\"No cells\")\n",
    "summary\n",
    "\n",
    "# Save summary\n",
    "# summary.to_csv(\"SPP1_percentages_summary.csv\")\n"
   ]
  },
  {
   "cell_type": "code",
   "execution_count": null,
   "id": "adf70d01",
   "metadata": {},
   "outputs": [],
   "source": [
    "for col in df_1991.columns:\n",
    "    if \"Mean\" in col or \"Median\" in col:\n",
    "        df_1991[col] = pd.to_numeric(df[col], errors=\"coerce\")\n",
    "\n",
    "def population_stats(pop_mask, name):\n",
    "    n_total = pop_mask.sum()\n",
    "    if n_total == 0:\n",
    "        return {\"Population\": name, \"N_total\": 0, \"% SPP1+\": None}\n",
    "    n_spp1 = (df_1991.loc[pop_mask, \"Cell: SPP1: Mean\"] > TH[\"SPP1\"]).sum()\n",
    "    pct = n_spp1 / n_total * 100\n",
    "    return {\"Population\": name, \"N_total\": n_total, \"% SPP1+\": pct}\n",
    "\n",
    "# Example usage:\n",
    "stats = []\n",
    "stats.append(population_stats(microglia_like, \"TMEM119+ CD68+ CD45+\"))\n",
    "stats.append(population_stats(macrophage_like, \"LGALS3+ CD68+ CD45+\"))\n",
    "stats.append(population_stats(h3k27m, \"H3K27M+\"))\n",
    "stats.append(population_stats(microglia_like & hypoxic, \"TMEM119+ CD68+ CD45+ GLUT1+ CD31-\"))\n",
    "stats.append(population_stats(macrophage_like & hypoxic, \"LGALS3+ CD68+ CD45+ GLUT1+ CD31-\"))\n",
    "stats.append(population_stats(h3k27m & hypoxic, \"H3K27M+ GLUT1+ CD31-\"))\n",
    "\n",
    "summary = pd.DataFrame(stats)\n",
    "print(summary)\n"
   ]
  },
  {
   "cell_type": "code",
   "execution_count": null,
   "id": "b53e7e9e",
   "metadata": {},
   "outputs": [],
   "source": []
  }
 ],
 "metadata": {
  "kernelspec": {
   "display_name": "venv (3.12.3)",
   "language": "python",
   "name": "python3"
  },
  "language_info": {
   "codemirror_mode": {
    "name": "ipython",
    "version": 3
   },
   "file_extension": ".py",
   "mimetype": "text/x-python",
   "name": "python",
   "nbconvert_exporter": "python",
   "pygments_lexer": "ipython3",
   "version": "3.10.18"
  }
 },
 "nbformat": 4,
 "nbformat_minor": 5
}
